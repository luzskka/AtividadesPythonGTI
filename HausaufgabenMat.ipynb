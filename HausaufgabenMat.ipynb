{
 "cells": [
  {
   "cell_type": "markdown",
   "id": "f776c07f",
   "metadata": {},
   "source": [
    "1) Resolva os problemas:"
   ]
  },
  {
   "cell_type": "code",
   "execution_count": 1,
   "id": "d3099878",
   "metadata": {},
   "outputs": [
    {
     "name": "stdout",
     "output_type": "stream",
     "text": [
      "A u B =  {0, 1, 2, 3, 4, 5}\n"
     ]
    },
    {
     "data": {
      "text/plain": [
       "{0, 1, 2, 3, 4, 5}"
      ]
     },
     "execution_count": 1,
     "metadata": {},
     "output_type": "execute_result"
    }
   ],
   "source": [
    "\n",
    "# a) Dados A = {0, 1, 2, 3} e B = {2, 3, 4, 5}, determine A ∪ B.\n",
    "A = {0, 1, 2, 3}\n",
    "B = {2, 3, 4, 5}\n",
    "C = A|B # A u B\n",
    "print(\"A u B = \", C)\n",
    "C"
   ]
  },
  {
   "cell_type": "code",
   "execution_count": 5,
   "id": "8417df5d",
   "metadata": {},
   "outputs": [
    {
     "name": "stdout",
     "output_type": "stream",
     "text": [
      "A - B =  {0, 2, 5}\n",
      "B - A =  {1, 3, 6, -2}\n"
     ]
    }
   ],
   "source": [
    "# b) Dados A = {- 1, 0, 2, 4, 5} e B = {- 2, - 1, 1, 3, 4, 6}, determine A - B e B - A.\n",
    "A = {-1, 0, 2, 4, 5}\n",
    "B = {-2, -1, 1, 3, 4, 6}\n",
    "C = A - B # A menos B\n",
    "D = B - A # B menos A\n",
    "print(\"A - B = \", C)\n",
    "print(\"B - A = \", D)"
   ]
  },
  {
   "cell_type": "code",
   "execution_count": 6,
   "id": "c99c1b9a",
   "metadata": {},
   "outputs": [],
   "source": [
    "# c) Considere os conjuntos A = {0, 1, 2, 3, 4, 5, 6}, B = {1, 2}, C = {2, 3, 4} e D = {4, 5}, determine\n",
    "# (A − B) ∩ (C ∩ D).\n",
    "A = {1, 2, 3, 4, 5, 6}\n",
    "B = {1, 2}\n",
    "C = {2, 3, 4}\n",
    "D = {4, 5}\n",
    "E = A - B\n",
    "F = C & D \n",
    "G = E & F"
   ]
  },
  {
   "cell_type": "code",
   "execution_count": 7,
   "id": "6fc68cd0",
   "metadata": {},
   "outputs": [
    {
     "data": {
      "text/plain": [
       "{4}"
      ]
     },
     "execution_count": 7,
     "metadata": {},
     "output_type": "execute_result"
    }
   ],
   "source": [
    "G"
   ]
  },
  {
   "cell_type": "code",
   "execution_count": 1,
   "id": "ca747dc6",
   "metadata": {},
   "outputs": [
    {
     "name": "stdout",
     "output_type": "stream",
     "text": [
      "(A - B) ∩ (C - B) = {0}\n"
     ]
    }
   ],
   "source": [
    "# d) Dados os conjuntos A = {0, -1, 1}, B = {1, 3, 4} e C = {0, 1}, determine (A − B) ∩ (C − B).\n",
    "A = {0, -1, 1}\n",
    "B = {1, 3, 4}\n",
    "C = {0, 1}\n",
    "A_diff_B = A - B\n",
    "C_diff_B = C - B\n",
    "resultado = A_diff_B & C_diff_B\n",
    "print(\"(A - B) ∩ (C - B) =\", resultado)"
   ]
  },
  {
   "cell_type": "code",
   "execution_count": 2,
   "id": "0b28416f",
   "metadata": {},
   "outputs": [
    {
     "name": "stdout",
     "output_type": "stream",
     "text": [
      "E = (A ∪ B) ∩ (B ∪ C) = {0, 1, 2, -2}\n"
     ]
    }
   ],
   "source": [
    "# e) Dados os conjuntos A = {- 1, 0, 1}, B = {-2, 0, 1, 2} e C = {1, 2, 3, 4, 5}, determine o conjunto\n",
    "# E = (A ∪ B) ∩ (B ∪ C).\n",
    "A = {-1, 0, 1}\n",
    "B = {-2, 0, 1, 2}\n",
    "C = {1, 2, 3, 4, 5}\n",
    "A_union_B = A | B\n",
    "B_union_C = B | C\n",
    "E = A_union_B & B_union_C\n",
    "print(\"E = (A ∪ B) ∩ (B ∪ C) =\", E)"
   ]
  },
  {
   "cell_type": "code",
   "execution_count": 3,
   "id": "38f35867",
   "metadata": {},
   "outputs": [
    {
     "name": "stdout",
     "output_type": "stream",
     "text": [
      "C − (A ∩ B) = {1, 3, 4, 5}\n"
     ]
    }
   ],
   "source": [
    "# f) Dados os conjuntos A = {- 2, - 1, 0, 1, 2}, B = {0, 2, 4, 6} e C = {0, 1, 2, 3, 4, 5}, determine o conjunto\n",
    "# C − (A ∩ B).\n",
    "A = {-2, -1, 0, 1, 2}\n",
    "B = {0, 2, 4, 6}\n",
    "C = {0, 1, 2, 3, 4, 5}\n",
    "A_intersection_B = A & B\n",
    "resultado = C - A_intersection_B\n",
    "print(\"C − (A ∩ B) =\", resultado)"
   ]
  },
  {
   "cell_type": "code",
   "execution_count": 4,
   "id": "76ea55df",
   "metadata": {},
   "outputs": [
    {
     "name": "stdout",
     "output_type": "stream",
     "text": [
      "Resultado = set()\n"
     ]
    }
   ],
   "source": [
    "# g) Dados os conjuntos A = {1, 2, 3}, B = {2, 3, 4, 5} e C = {0, 1, 2, 3, 4}, determine o conjunto:\n",
    "# [(A ∪ B) ∩ C] − [(A ∩ B) ∪ C] .\n",
    "A = {1, 2, 3}\n",
    "B = {2, 3, 4, 5}\n",
    "C = {0, 1, 2, 3, 4}\n",
    "A_union_B = A | B \n",
    "parte1 = A_union_B & C\n",
    "A_intersection_B = A & B \n",
    "parte2 = A_intersection_B | C\n",
    "resultado = parte1 - parte2\n",
    "print(\"Resultado =\", resultado)"
   ]
  },
  {
   "cell_type": "code",
   "execution_count": 5,
   "id": "e8b5e6d3",
   "metadata": {},
   "outputs": [
    {
     "name": "stdout",
     "output_type": "stream",
     "text": [
      "X = {5}\n"
     ]
    }
   ],
   "source": [
    "# h) Se os conjuntos A = {1, 2, 3}, B = {2, 3, 4} e C = {4, 5}, determine o conjunto X tal que X = (A ∩ B) ∪\n",
    "# C − (A ∪ B). X = {5}\n",
    "A = {1, 2, 3}\n",
    "B = {2, 3, 4}\n",
    "C = {4, 5}\n",
    "A_intersection_B = A & B\n",
    "temp = A_intersection_B | C \n",
    "A_union_B = A | B \n",
    "X = temp - A_union_B\n",
    "print(\"X =\", X)"
   ]
  },
  {
   "cell_type": "code",
   "execution_count": null,
   "id": "db087a6a",
   "metadata": {},
   "outputs": [],
   "source": [
    "# i) Se M = {1, 2, 3, 4, 5} e N são conjuntos, tais que M ∪ N = {1, 2, 3, 4, 5} e M ∩ N = {1, 2, 3}, determine o\n",
    "# conjunto N.\n"
   ]
  },
  {
   "cell_type": "code",
   "execution_count": 6,
   "id": "b5d5a652",
   "metadata": {},
   "outputs": [
    {
     "name": "stdout",
     "output_type": "stream",
     "text": [
      "(A - B) ∩ (B - C) = set()\n"
     ]
    }
   ],
   "source": [
    "# j) Dados os conjuntos A = {a, b, c, d, e, f, g}, B = {b, d, g, h, i} e C = {e, f, m, n}, determine o conjunto (A −\n",
    "# B) ∩ (B − C).\n",
    "A_diff_B = A - B\n",
    "B_diff_C = B - C\n",
    "resultado = A_diff_B & B_diff_C\n",
    "print(\"(A - B) ∩ (B - C) =\", resultado)"
   ]
  },
  {
   "cell_type": "markdown",
   "id": "a5baec80",
   "metadata": {},
   "source": [
    "2) Considerando os conjuntos A = {0, 1, 2, 3}, B = {- 2, - 1, 0, 1, 2} e C = {- 1, 0, 1, 2, 3, 4, 5}, analise cada\n",
    "afirmação como verdadeira (V) ou falsa (F)."
   ]
  },
  {
   "cell_type": "code",
   "execution_count": 13,
   "id": "9f9378ed",
   "metadata": {},
   "outputs": [],
   "source": [
    "#a)\n",
    "A = {0, 1, 2, 3}\n",
    "B = {-2, -1, 0, 1, 2}\n",
    "C = {-1, 0, 1, 2, 3, 4, 5}"
   ]
  },
  {
   "cell_type": "code",
   "execution_count": 9,
   "id": "8eca62c3",
   "metadata": {},
   "outputs": [
    {
     "data": {
      "text/plain": [
       "False"
      ]
     },
     "execution_count": 9,
     "metadata": {},
     "output_type": "execute_result"
    }
   ],
   "source": [
    "𝐵 ∪ 𝐴 = 𝐶 -> A | B == C\n",
    "#Forma 1:\n",
    "B | A == C"
   ]
  },
  {
   "cell_type": "code",
   "execution_count": 10,
   "id": "967ae461",
   "metadata": {},
   "outputs": [
    {
     "name": "stdout",
     "output_type": "stream",
     "text": [
      "B ∪ A = C é F\n"
     ]
    }
   ],
   "source": [
    "𝐵 ∪ 𝐴 = 𝐶 -> A | B == C\n",
    "#Forma 2:\n",
    "if B | A == C:\n",
    "    print(\"B ∪ A = C é V\")\n",
    "else:\n",
    "    print(\"B ∪ A = C é F\")"
   ]
  },
  {
   "cell_type": "code",
   "execution_count": 12,
   "id": "03fdc251",
   "metadata": {},
   "outputs": [
    {
     "name": "stdout",
     "output_type": "stream",
     "text": [
      "A ∩ B = {0, 1, 2} é V\n"
     ]
    }
   ],
   "source": [
    "# b)𝐴∩𝐵={0,1,2} -> A & B == {0,1,2}\n",
    "\n",
    "if A & B == {0, 1, 2}:\n",
    "    print(\"A ∩ B = {0, 1, 2} é V\")\n",
    "else:\n",
    "    print(\"A ∩ B = {0, 1, 2} é F\")"
   ]
  },
  {
   "cell_type": "code",
   "execution_count": 8,
   "id": "a262cc13",
   "metadata": {},
   "outputs": [],
   "source": [
    "# c) B−C= 3,4,5\n",
    "# False"
   ]
  },
  {
   "cell_type": "code",
   "execution_count": 11,
   "id": "462cbd6e",
   "metadata": {},
   "outputs": [
    {
     "name": "stdout",
     "output_type": "stream",
     "text": [
      "True\n"
     ]
    }
   ],
   "source": [
    "# d) A∪C=C\n",
    "A = {0, 1, 2, 3}\n",
    "\n",
    "C = {-1, 0, 1, 2, 3, 4, 5}\n",
    "A = {0, 1, 2, 3}\n",
    "uniao = A.union(C) \n",
    "print(uniao == C)\n"
   ]
  },
  {
   "cell_type": "code",
   "execution_count": 12,
   "id": "fd631c1d",
   "metadata": {},
   "outputs": [
    {
     "name": "stdout",
     "output_type": "stream",
     "text": [
      "B ∩ C = {0, 1, 2, -1}\n",
      "A afirmação é verdadeira? True\n"
     ]
    }
   ],
   "source": [
    "# e) B∩C= −1,0,1,\n",
    "B = {-2, -1, 0, 1, 2}\n",
    "C = {-1, 0, 1, 2, 3, 4, 5}\n",
    "intersecao = B & C\n",
    "print(\"B ∩ C =\", intersecao)\n",
    "print(\"A afirmação é verdadeira?\", intersecao == {-1, 0, 1, 2})"
   ]
  },
  {
   "cell_type": "code",
   "execution_count": 13,
   "id": "7b973fe6",
   "metadata": {},
   "outputs": [
    {
     "name": "stdout",
     "output_type": "stream",
     "text": [
      "A ∩ B ∩ C = {0, 1, 2}\n",
      "A afirmação é verdadeira? True\n"
     ]
    }
   ],
   "source": [
    "# f) A∩B∩C={0,1,2}\n",
    "A = {0, 1, 2, 3}\n",
    "B = {-2, -1, 0, 1, 2}\n",
    "C = {-1, 0, 1, 2, 3, 4, 5}\n",
    "intersecao = A & B & C\n",
    "print(\"A ∩ B ∩ C =\", intersecao)\n",
    "print(\"A afirmação é verdadeira?\", intersecao == {0, 1, 2})"
   ]
  },
  {
   "cell_type": "code",
   "execution_count": 14,
   "id": "2f2393cb",
   "metadata": {},
   "outputs": [
    {
     "name": "stdout",
     "output_type": "stream",
     "text": [
      "A ∪ B = {0, 1, 2, 3, -2, -1}\n",
      "(A ∪ B) - C = {-2}\n",
      "A afirmação é verdadeira? False\n"
     ]
    }
   ],
   "source": [
    "# g) A∪B −C= { }\n",
    "A = {0, 1, 2, 3}\n",
    "B = {-2, -1, 0, 1, 2}\n",
    "C = {-1, 0, 1, 2, 3, 4, 5}\n",
    "uniao_AB = A | B\n",
    "diferenca = uniao_AB - C\n",
    "print(\"A ∪ B =\", uniao_AB)\n",
    "print(\"(A ∪ B) - C =\", diferenca)\n",
    "print(\"A afirmação é verdadeira?\", diferenca == set())"
   ]
  },
  {
   "cell_type": "code",
   "execution_count": 15,
   "id": "8040cc03",
   "metadata": {},
   "outputs": [
    {
     "name": "stdout",
     "output_type": "stream",
     "text": [
      "A - C = set()\n",
      "A afirmação é verdadeira? True\n"
     ]
    }
   ],
   "source": [
    "# h) A−C=∅\n",
    "A = {0, 1, 2, 3}\n",
    "C = {-1, 0, 1, 2, 3, 4, 5}\n",
    "diferenca = A - C \n",
    "print(\"A - C =\", diferenca)\n",
    "print(\"A afirmação é verdadeira?\", diferenca == set())"
   ]
  },
  {
   "cell_type": "code",
   "execution_count": 16,
   "id": "fd0445a6",
   "metadata": {},
   "outputs": [
    {
     "name": "stdout",
     "output_type": "stream",
     "text": [
      "B - C = {-2}\n",
      "C - A = {4, 5, -1}\n",
      "(B - C) ∪ (C - A) = {4, 5, -2, -1}\n",
      "A afirmação é verdadeira? True\n"
     ]
    }
   ],
   "source": [
    "# i) B−C ∪ C−A ={−2,−1,4,5}\n",
    "A = {0, 1, 2, 3}\n",
    "B = {-2, -1, 0, 1, 2}\n",
    "C = {-1, 0, 1, 2, 3, 4, 5}\n",
    "B_diff_C = B - C\n",
    "C_diff_A = C - A\n",
    "resultado = B_diff_C.union(C_diff_A)\n",
    "print(\"B - C =\", B_diff_C)\n",
    "print(\"C - A =\", C_diff_A)\n",
    "print(\"(B - C) ∪ (C - A) =\", resultado)\n",
    "print(\"A afirmação é verdadeira?\", resultado == {-2, -1, 4, 5})"
   ]
  },
  {
   "cell_type": "code",
   "execution_count": 17,
   "id": "a4505ba7",
   "metadata": {},
   "outputs": [
    {
     "name": "stdout",
     "output_type": "stream",
     "text": [
      "A ∩ C = {0, 1, 2, 3}\n",
      "(A ∩ C) - B = {3}\n",
      "A afirmação é verdadeira? True\n"
     ]
    }
   ],
   "source": [
    "A = {0, 1, 2, 3}\n",
    "B = {-2, -1, 0, 1, 2}\n",
    "C = {-1, 0, 1, 2, 3, 4, 5}\n",
    "A_inter_C = A & C\n",
    "resultado = A_inter_C - B\n",
    "print(\"A ∩ C =\", A_inter_C)\n",
    "print(\"(A ∩ C) - B =\", resultado)\n",
    "print(\"A afirmação é verdadeira?\", resultado == {3})"
   ]
  },
  {
   "cell_type": "markdown",
   "id": "ade82dd7",
   "metadata": {},
   "source": [
    "3) Se A ∪ B = {0, 1, 2, 3, 4, 5, 6}, A ∩ B = {2, 4} e A–B = {1, 5, 6}, então podemos dizer que o conjunto B é\n",
    "igual a"
   ]
  },
  {
   "cell_type": "code",
   "execution_count": 14,
   "id": "a527ec1c",
   "metadata": {},
   "outputs": [
    {
     "name": "stdout",
     "output_type": "stream",
     "text": [
      "A =  {1, 2, 4, 5, 6} \n",
      "\n",
      "B =  {0, 2, 3, 4} \n",
      "\n"
     ]
    }
   ],
   "source": [
    "# Código para resolver: Se A | B = {0, 1, 2, 3, 4, 5, 6}, A & B = {2, 4} e A - B = {1, 5, 6} então B é?\n",
    "\n",
    "AuniB = {0, 1, 2, 3, 4, 5, 6}\n",
    "AinterB = {2, 4}\n",
    "AmenosB = {1, 5, 6}\n",
    "\n",
    "A = AinterB | AmenosB\n",
    "print(\"A = \",A ,\"\\n\")\n",
    "B = (AuniB - A) | AinterB\n",
    "print(\"B = \", B, \"\\n\")"
   ]
  },
  {
   "cell_type": "code",
   "execution_count": null,
   "id": "98f3cdb0",
   "metadata": {},
   "outputs": [],
   "source": []
  }
 ],
 "metadata": {
  "kernelspec": {
   "display_name": "Python 3",
   "language": "python",
   "name": "python3"
  },
  "language_info": {
   "codemirror_mode": {
    "name": "ipython",
    "version": 3
   },
   "file_extension": ".py",
   "mimetype": "text/x-python",
   "name": "python",
   "nbconvert_exporter": "python",
   "pygments_lexer": "ipython3",
   "version": "3.13.2"
  }
 },
 "nbformat": 4,
 "nbformat_minor": 5
}
