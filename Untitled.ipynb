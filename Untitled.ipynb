{
 "cells": [
  {
   "cell_type": "code",
   "execution_count": 1,
   "id": "d441c30c-5c42-4f92-9f1f-5914c216d290",
   "metadata": {},
   "outputs": [
    {
     "name": "stdout",
     "output_type": "stream",
     "text": [
      "Conjunto de números naturais: {0, 1, 2, 3, 4, 5}\n",
      "Conjunto de números inteiros: {0, 1, 2, 3, -1, -3, -2}\n",
      "Conjunto de números racionais: {0.5, 1.75, -2.3}\n",
      "Conjunto de números reais: {2.718, 3.14, -1.414}\n"
     ]
    }
   ],
   "source": [
    "naturais = {0, 1, 2, 3, 4, 5}\n",
    "inteiros = {-3, -2, -1, 0, 1, 2, 3}\n",
    "racionais = {0.5, -2.3, 1.75}\n",
    "reais = {3.14, -1.414, 2.718}\n",
    "print(\"Conjunto de números naturais:\", naturais)\n",
    "print(\"Conjunto de números inteiros:\", inteiros)\n",
    "print(\"Conjunto de números racionais:\", racionais)\n",
    "print(\"Conjunto de números reais:\", reais)"
   ]
  },
  {
   "cell_type": "code",
   "execution_count": 2,
   "id": "3ca728a8-79c5-4723-92ce-f91362e45cf7",
   "metadata": {},
   "outputs": [
    {
     "ename": "NameError",
     "evalue": "name 'A' is not defined",
     "output_type": "error",
     "traceback": [
      "\u001b[31m---------------------------------------------------------------------------\u001b[39m",
      "\u001b[31mNameError\u001b[39m                                 Traceback (most recent call last)",
      "\u001b[36mCell\u001b[39m\u001b[36m \u001b[39m\u001b[32mIn[2]\u001b[39m\u001b[32m, line 1\u001b[39m\n\u001b[32m----> \u001b[39m\u001b[32m1\u001b[39m \u001b[38;5;28mprint\u001b[39m(\u001b[33m\"\u001b[39m\u001b[33mUnião:\u001b[39m\u001b[33m\"\u001b[39m, \u001b[43mA\u001b[49m | B) \u001b[38;5;66;03m# A U B\u001b[39;00m\n\u001b[32m      2\u001b[39m \u001b[38;5;28mprint\u001b[39m(\u001b[33m\"\u001b[39m\u001b[33mInterseção:\u001b[39m\u001b[33m\"\u001b[39m, A & B) \u001b[38;5;66;03m# A n B\u001b[39;00m\n\u001b[32m      3\u001b[39m \u001b[38;5;28mprint\u001b[39m (\u001b[33m\"\u001b[39m\u001b[33mDiferenca A - B:\u001b[39m\u001b[33m\"\u001b[39m, A - B) \u001b[38;5;66;03m# Elementos em A, mas não em B\u001b[39;00m\n",
      "\u001b[31mNameError\u001b[39m: name 'A' is not defined"
     ]
    }
   ],
   "source": [
    "print(\"União:\", A | B) # A U B\n",
    "print(\"Interseção:\", A & B) # A n B\n",
    "print (\"Diferenca A - B:\", A - B) # Elementos em A, mas não em B"
   ]
  },
  {
   "cell_type": "code",
   "execution_count": null,
   "id": "0b553f59-4ebc-43c9-a02c-d3189499cd45",
   "metadata": {},
   "outputs": [],
   "source": []
  }
 ],
 "metadata": {
  "kernelspec": {
   "display_name": "Python 3 (ipykernel)",
   "language": "python",
   "name": "python3"
  },
  "language_info": {
   "codemirror_mode": {
    "name": "ipython",
    "version": 3
   },
   "file_extension": ".py",
   "mimetype": "text/x-python",
   "name": "python",
   "nbconvert_exporter": "python",
   "pygments_lexer": "ipython3",
   "version": "3.13.2"
  }
 },
 "nbformat": 4,
 "nbformat_minor": 5
}
