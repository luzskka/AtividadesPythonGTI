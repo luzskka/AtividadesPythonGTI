{
 "cells": [
  {
   "cell_type": "markdown",
   "id": "df4d2253",
   "metadata": {},
   "source": [
    "### Funções em situações-problemas com Python"
   ]
  },
  {
   "cell_type": "code",
   "execution_count": 4,
   "id": "dc82e3b3",
   "metadata": {},
   "outputs": [
    {
     "name": "stdout",
     "output_type": "stream",
     "text": [
      "Quantas horas o carro permenaceu no estacionamento? 3\n",
      "Valor total a pagar: R$ 18\n"
     ]
    }
   ],
   "source": [
    "# Situação 1 – Estacionamento por Hora\n",
    "# Um estacionamento cobra R$ 8,00 pela primeira hora e R$ 5,00 por cada hora adicional.\n",
    "\n",
    "horas = int(input('Quantas horas o carro permenaceu no estacionamento? '))\n",
    "if horas ==1:\n",
    "    preco = 8\n",
    "else:\n",
    "    preco = 8 + (horas - 1) * 5\n",
    "print('Valor total a pagar: R$', preco)"
   ]
  },
  {
   "cell_type": "code",
   "execution_count": 5,
   "id": "bcf5bc04",
   "metadata": {},
   "outputs": [
    {
     "name": "stdout",
     "output_type": "stream",
     "text": [
      "Quantas horas o carro permenaceu no estacionamento? 10\n",
      "Valor total a pagar: R$ 53\n"
     ]
    }
   ],
   "source": [
    "# Situação 1 – Estacionamento por Hora\n",
    "# Um estacionamento cobra R$ 8,00 pela primeira hora e R$ 5,00 por cada hora adicional.\n",
    "\n",
    "horas = int(input('Quantas horas o carro permenaceu no estacionamento? '))\n",
    "if horas ==1:\n",
    "    preco = 8\n",
    "else:\n",
    "    preco = 8 + (horas - 1) * 5\n",
    "print('Valor total a pagar: R$', preco)"
   ]
  },
  {
   "cell_type": "code",
   "execution_count": 6,
   "id": "4ead44c6",
   "metadata": {},
   "outputs": [
    {
     "name": "stdout",
     "output_type": "stream",
     "text": [
      "quantas horas o carro permaneceu no estacionamento? 3\n",
      "valor total a pagar: R$ 20\n"
     ]
    }
   ],
   "source": [
    "# Situação 1 – Estacionamento por Hora\n",
    "# Um estacionamento cobra R$ 10,00 pela primeira hora e R$ 5,00 por cada hora adicional.\n",
    "\n",
    "horas = int(input('quantas horas o carro permaneceu no estacionamento? '))\n",
    "if horas == 1:\n",
    "    preco = 10\n",
    "else:\n",
    "    preco = 10 + (horas - 1) * 5 \n",
    "print('valor total a pagar: R$', preco)"
   ]
  },
  {
   "cell_type": "code",
   "execution_count": 7,
   "id": "5f6545ca",
   "metadata": {},
   "outputs": [
    {
     "name": "stdout",
     "output_type": "stream",
     "text": [
      "quantas horas o carro permaneceu no estacionamento? 10\n",
      "valor total a pagar: R$ 55\n"
     ]
    }
   ],
   "source": [
    "# Situação 1 – Estacionamento por Hora\n",
    "# Um estacionamento cobra R$ 10,00 pela primeira hora e R$ 5,00 por cada hora adicional.\n",
    "\n",
    "horas = int(input('quantas horas o carro permaneceu no estacionamento? '))\n",
    "if horas == 1:\n",
    "    preco = 10\n",
    "else:\n",
    "    preco = 10 + (horas - 1) * 5 \n",
    "print('valor total a pagar: R$', preco)"
   ]
  },
  {
   "cell_type": "code",
   "execution_count": 10,
   "id": "742d6431",
   "metadata": {},
   "outputs": [
    {
     "name": "stdout",
     "output_type": "stream",
     "text": [
      "digite a quantidade de camisetas: 0\n",
      "O custo total de produção é: R$ 200\n"
     ]
    }
   ],
   "source": [
    "# Situação 2 – Custo de Produção de Camisetas\n",
    "# Uma empresa tem um custo fixo de R$ 200,00 e gasta R$ 5,00 por camiseta produzida.\n",
    "\n",
    "\n",
    "\n",
    "camisetas = int(input('digite a quantidade de camisetas: '))\n",
    "custo = 200 + 5 * camisetas\n",
    "print('O custo total de produção é: R$', custo)"
   ]
  },
  {
   "cell_type": "code",
   "execution_count": 11,
   "id": "dedd9894",
   "metadata": {},
   "outputs": [
    {
     "name": "stdout",
     "output_type": "stream",
     "text": [
      "digite a quantidade de camisetas: 10\n",
      "O custo total de produção é: R$ 250\n"
     ]
    }
   ],
   "source": [
    "# Situação 2 – Custo de Produção de Camisetas\n",
    "# Uma empresa tem um custo fixo de R$ 200,00 e gasta R$ 5,00 por camiseta produzida.\n",
    "\n",
    "\n",
    "\n",
    "camisetas = int(input('digite a quantidade de camisetas: '))\n",
    "custo = 200 + 5 * camisetas\n",
    "print('O custo total de produção é: R$', custo)"
   ]
  },
  {
   "cell_type": "code",
   "execution_count": 12,
   "id": "5286091c",
   "metadata": {},
   "outputs": [
    {
     "name": "stdout",
     "output_type": "stream",
     "text": [
      "digite a quantidade de camisetas: 15\n",
      "O custo total de produção é: R$ 275\n"
     ]
    }
   ],
   "source": [
    "# Situação 2 – Custo de Produção de Camisetas\n",
    "# Uma empresa tem um custo fixo de R$ 200,00 e gasta R$ 5,00 por camiseta produzida.\n",
    "\n",
    "\n",
    "\n",
    "camisetas = int(input('digite a quantidade de camisetas: '))\n",
    "custo = 200 + 5 * camisetas\n",
    "print('O custo total de produção é: R$', custo)"
   ]
  },
  {
   "cell_type": "code",
   "execution_count": 13,
   "id": "64403f53",
   "metadata": {},
   "outputs": [
    {
     "name": "stdout",
     "output_type": "stream",
     "text": [
      "digite a quantidade de camisetas: 50\n",
      "O custo total de produção é: R$ 400\n"
     ]
    }
   ],
   "source": [
    "# Situação 2 – Custo de Produção de Camisetas\n",
    "# Uma empresa tem um custo fixo de R$ 150,00 e gasta R$ 5,00 por camiseta produzida.\n",
    "\n",
    "\n",
    "\n",
    "camisetas = int(input('digite a quantidade de camisetas: '))\n",
    "custo = 150 + 5 * camisetas\n",
    "print('O custo total de produção é: R$', custo)"
   ]
  },
  {
   "cell_type": "code",
   "execution_count": null,
   "id": "a5d3c065",
   "metadata": {},
   "outputs": [],
   "source": [
    "# Situação 3 – Corrida e Queima de Calorias\n",
    "# Em uma corrida, a cada minuto são queimadas 10 calorias.\n",
    "\n"
   ]
  }
 ],
 "metadata": {
  "kernelspec": {
   "display_name": "Python 3 (ipykernel)",
   "language": "python",
   "name": "python3"
  },
  "language_info": {
   "codemirror_mode": {
    "name": "ipython",
    "version": 3
   },
   "file_extension": ".py",
   "mimetype": "text/x-python",
   "name": "python",
   "nbconvert_exporter": "python",
   "pygments_lexer": "ipython3",
   "version": "3.9.13"
  }
 },
 "nbformat": 4,
 "nbformat_minor": 5
}
