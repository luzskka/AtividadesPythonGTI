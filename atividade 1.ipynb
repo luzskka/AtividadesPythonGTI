{
 "cells": [
  {
   "cell_type": "code",
   "execution_count": 1,
   "id": "9aa21f64-436a-420d-a988-ce754119641f",
   "metadata": {},
   "outputs": [
    {
     "name": "stdout",
     "output_type": "stream",
     "text": [
      "<class 'int'>\n"
     ]
    }
   ],
   "source": [
    "print(type(10))"
   ]
  },
  {
   "cell_type": "code",
   "execution_count": 2,
   "id": "8a630dbf-b75c-41c7-9d8f-a9eb2dee7941",
   "metadata": {},
   "outputs": [
    {
     "name": "stdout",
     "output_type": "stream",
     "text": [
      "<class 'float'>\n"
     ]
    }
   ],
   "source": [
    "print(type(3.14))"
   ]
  },
  {
   "cell_type": "code",
   "execution_count": 3,
   "id": "0390da20-6475-4307-9851-e6256d05abc3",
   "metadata": {},
   "outputs": [
    {
     "name": "stdout",
     "output_type": "stream",
     "text": [
      "<class 'bool'>\n"
     ]
    }
   ],
   "source": [
    "print(type(True))"
   ]
  },
  {
   "cell_type": "code",
   "execution_count": 4,
   "id": "8fa3d4d7-ea85-4f8e-9b85-891a2a460b5a",
   "metadata": {},
   "outputs": [
    {
     "name": "stdout",
     "output_type": "stream",
     "text": [
      "<class 'str'>\n"
     ]
    }
   ],
   "source": [
    "print(type(\"Python\"))"
   ]
  },
  {
   "cell_type": "code",
   "execution_count": 10,
   "id": "aeb72e24-0acc-44c5-85a6-4c41dcb6cdb0",
   "metadata": {},
   "outputs": [
    {
     "name": "stdin",
     "output_type": "stream",
     "text": [
      "nome: Lucas\n",
      "idade: 27 anos\n"
     ]
    },
    {
     "name": "stdout",
     "output_type": "stream",
     "text": [
      "fala tu, Lucas qual a sua idade? 27 anos\n"
     ]
    }
   ],
   "source": [
    "nome = input(\"nome:\")\n",
    "idade = input(\"idade:\")\n",
    "print(\"fala tu, \" + nome + \" qual a sua idade? \" + idade)"
   ]
  },
  {
   "cell_type": "code",
   "execution_count": 11,
   "id": "098d65aa-9355-4e40-aa03-82a6eaf4b79c",
   "metadata": {},
   "outputs": [
    {
     "name": "stdin",
     "output_type": "stream",
     "text": [
      "primeiro número:   2\n",
      "segundo número:   5\n"
     ]
    },
    {
     "name": "stdout",
     "output_type": "stream",
     "text": [
      "soma: 7.0\n",
      "subtração: -3.0\n",
      "multiplicação: 10.0\n",
      "divisão: 0.4\n"
     ]
    }
   ],
   "source": [
    "num1 = float(input(\"primeiro número:  \"))\n",
    "num2 = float(input(\"segundo número:  \"))\n",
    "soma = num1 + num2 \n",
    "subtração = num1 - num2\n",
    "multiplicação = num1 * num2\n",
    "divisão = num1 / num2\n",
    "print(\"soma:\", soma)\n",
    "print(\"subtração:\", subtração)\n",
    "print(\"multiplicação:\",multiplicação)\n",
    "print(\"divisão:\",divisão)"
   ]
  },
  {
   "cell_type": "code",
   "execution_count": 13,
   "id": "6934df87-f320-4fdc-a279-9c9340f6d710",
   "metadata": {},
   "outputs": [
    {
     "name": "stdin",
     "output_type": "stream",
     "text": [
      "primeiro número:  2\n",
      "segundo número:  5\n"
     ]
    },
    {
     "name": "stdout",
     "output_type": "stream",
     "text": [
      "escolha a operação: +, -, *, /\n"
     ]
    },
    {
     "name": "stdin",
     "output_type": "stream",
     "text": [
      "digite a operação desejada:  +\n"
     ]
    },
    {
     "name": "stdout",
     "output_type": "stream",
     "text": [
      "Resultado: 7.0\n"
     ]
    }
   ],
   "source": [
    "num1 = float(input(\"primeiro número: \"))\n",
    "num2 = float(input(\"segundo número: \"))\n",
    "print(\"escolha a operação: +, -, *, /\")\n",
    "operação = input(\"digite a operação desejada: \")\n",
    "if operação == \"+\":\n",
    "    resultado = num1 + num2\n",
    "elif operação == \"-\":\n",
    "    resultado = num1 - num2\n",
    "elif operação == \"*\":\n",
    "    resultado = num1 * num2\n",
    "elif operação == \"/\":\n",
    "   if num2 == 0:\n",
    "       resultado = \"erro! divisão por zero.\"\n",
    "   else:\n",
    "       resultado =num1 / num2\n",
    "else:\n",
    "    resultado = \"operação inválida!\"\n",
    "\n",
    "print(\"Resultado:\", resultado)\n"
   ]
  },
  {
   "cell_type": "code",
   "execution_count": null,
   "id": "4c2503b6-0dd0-4bfa-abe8-88db98f3d8f9",
   "metadata": {},
   "outputs": [],
   "source": []
  }
 ],
 "metadata": {
  "kernelspec": {
   "display_name": "Python 3 (ipykernel)",
   "language": "python",
   "name": "python3"
  },
  "language_info": {
   "codemirror_mode": {
    "name": "ipython",
    "version": 3
   },
   "file_extension": ".py",
   "mimetype": "text/x-python",
   "name": "python",
   "nbconvert_exporter": "python",
   "pygments_lexer": "ipython3",
   "version": "3.13.2"
  }
 },
 "nbformat": 4,
 "nbformat_minor": 5
}
