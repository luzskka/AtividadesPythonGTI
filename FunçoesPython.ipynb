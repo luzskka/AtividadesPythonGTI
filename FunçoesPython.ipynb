{
 "cells": [
  {
   "cell_type": "code",
   "execution_count": 4,
   "id": "d49552e3-9736-4baa-b628-f983533fe2d8",
   "metadata": {},
   "outputs": [],
   "source": [
    "def Hello_word ():\n",
    "    print(\"Hello Word!\")"
   ]
  },
  {
   "cell_type": "code",
   "execution_count": 7,
   "id": "1a9fe60a-141a-43fe-95de-9da53c2ca76f",
   "metadata": {},
   "outputs": [
    {
     "name": "stdout",
     "output_type": "stream",
     "text": [
      "Hello Word!\n"
     ]
    }
   ],
   "source": [
    "Hello_word ()"
   ]
  },
  {
   "cell_type": "code",
   "execution_count": 9,
   "id": "a93aa49f-6773-4266-bd77-c419d66ac39b",
   "metadata": {},
   "outputs": [],
   "source": [
    "def funcao_um (nome):\n",
    "    print(\"Hello Word %s\" %(nome))"
   ]
  },
  {
   "cell_type": "code",
   "execution_count": 11,
   "id": "b304f3c7-f9ae-44c3-b8dc-58d56db134b3",
   "metadata": {},
   "outputs": [
    {
     "name": "stdin",
     "output_type": "stream",
     "text": [
      "Digite o seu nome:  lucas\n"
     ]
    }
   ],
   "source": [
    "x = input(\"Digite o seu nome: \")"
   ]
  },
  {
   "cell_type": "code",
   "execution_count": 10,
   "id": "6bc8d86b-ba37-489b-8acc-3b5689c6b996",
   "metadata": {},
   "outputs": [
    {
     "name": "stdin",
     "output_type": "stream",
     "text": [
      "Digite o seu nome:  lucas\n"
     ]
    },
    {
     "name": "stdout",
     "output_type": "stream",
     "text": [
      "Hello Word lucas\n"
     ]
    }
   ],
   "source": [
    "funcao_um(input(\"Digite o seu nome: \"))"
   ]
  },
  {
   "cell_type": "code",
   "execution_count": 12,
   "id": "5d68323c-e7ec-4105-a29a-aca21f81b750",
   "metadata": {},
   "outputs": [
    {
     "name": "stdout",
     "output_type": "stream",
     "text": [
      "Hello Word lucas\n"
     ]
    }
   ],
   "source": [
    "funcao_um(x)"
   ]
  },
  {
   "cell_type": "code",
   "execution_count": 14,
   "id": "5d800c47-fe96-4a3e-8a7c-0b67e64c75cc",
   "metadata": {},
   "outputs": [],
   "source": [
    "def funcao_dois():\n",
    "    for i in range(0, 5):\n",
    "        print(\"Número:\" + str(i))"
   ]
  },
  {
   "cell_type": "code",
   "execution_count": 15,
   "id": "1dbf27a1-1654-4889-9950-480bae45bb4d",
   "metadata": {},
   "outputs": [
    {
     "name": "stdout",
     "output_type": "stream",
     "text": [
      "Número:0\n",
      "Número:1\n",
      "Número:2\n",
      "Número:3\n",
      "Número:4\n"
     ]
    }
   ],
   "source": [
    "funcao_dois()"
   ]
  },
  {
   "cell_type": "code",
   "execution_count": 20,
   "id": "635151ea-8679-45f7-b8d7-a00df14a1db1",
   "metadata": {},
   "outputs": [],
   "source": [
    "def notas():\n",
    "    n1 = float(input(\"Digite a N1\"))\n",
    "    n2 = float(input(\"Digite a N2\"))\n",
    "    n3 = float(input(\"Digite a N3\"))\n",
    "\n",
    "    media = round((n1+ n2+ n3)/3, 1)\n",
    "    print(\"Sua média é: \", media)\n",
    "    "
   ]
  },
  {
   "cell_type": "code",
   "execution_count": 21,
   "id": "539516f1-75e8-4158-8d13-c84b6e165c2f",
   "metadata": {},
   "outputs": [
    {
     "name": "stdin",
     "output_type": "stream",
     "text": [
      "Digite a N1 6\n",
      "Digite a N2 7\n",
      "Digite a N3 8\n"
     ]
    },
    {
     "name": "stdout",
     "output_type": "stream",
     "text": [
      "Sua média é:  7.0\n"
     ]
    }
   ],
   "source": [
    "notas()"
   ]
  },
  {
   "cell_type": "code",
   "execution_count": 22,
   "id": "f8a00f2e-e76e-41cf-867c-9bbf6b329687",
   "metadata": {},
   "outputs": [],
   "source": [
    "import statistics as st\n",
    "def notas1 ():\n",
    "    n1 = float(input(\"Digite a N1\"))\n",
    "    n2 = float(input(\"Digite a N2\"))\n",
    "    n3 = float(input(\"Digite a N3\"))\n",
    "\n",
    "    valor = [n1, n2, n3]\n",
    "\n",
    "    media = round(st.mean(valor), 1)\n",
    "    print(\"Sua média é: \", media)"
   ]
  },
  {
   "cell_type": "code",
   "execution_count": 24,
   "id": "a2323ec9-b5fb-4303-b5df-7a2d15e54e07",
   "metadata": {},
   "outputs": [
    {
     "name": "stdin",
     "output_type": "stream",
     "text": [
      "Digite a N1 6\n",
      "Digite a N2 7\n",
      "Digite a N3 8\n"
     ]
    },
    {
     "name": "stdout",
     "output_type": "stream",
     "text": [
      "Sua média é:  7.0\n"
     ]
    }
   ],
   "source": [
    "notas1()"
   ]
  },
  {
   "cell_type": "code",
   "execution_count": 25,
   "id": "108bdd3e-bd25-4028-83d0-77d42d18785c",
   "metadata": {},
   "outputs": [],
   "source": [
    "import statistics as st\n",
    "def notas2 ():\n",
    "    n1 = float(input(\"Digite a N1\"))\n",
    "    n2 = float(input(\"Digite a N2\"))\n",
    "    n3 = float(input(\"Digite a N3\"))\n",
    "\n",
    "    valor = [n1, n2, n3]\n",
    "\n",
    "    media = round(st.mean(valor), 1)\n",
    "    return media"
   ]
  },
  {
   "cell_type": "code",
   "execution_count": 26,
   "id": "6a4728e1-01fb-4429-a234-f61c78301952",
   "metadata": {},
   "outputs": [
    {
     "name": "stdin",
     "output_type": "stream",
     "text": [
      "Digite a N1 6\n",
      "Digite a N2 7\n",
      "Digite a N3 8\n"
     ]
    }
   ],
   "source": [
    "x = notas2()\n",
    "def resultado(x):\n",
    "\n",
    "    if x >= 6:\n",
    "        print(\"Aprovado!\", x)\n",
    "    elif x > 4 or x<6:\n",
    "        print(\"Recuperação!\", x)\n",
    "    else:\n",
    "        print(\"Reprovado!\", x)\n",
    "        \n",
    "        \n",
    "    "
   ]
  },
  {
   "cell_type": "code",
   "execution_count": 27,
   "id": "05662910-2ec1-46c1-bacc-d69958ab65e7",
   "metadata": {},
   "outputs": [
    {
     "name": "stdout",
     "output_type": "stream",
     "text": [
      "Aprovado! 7.0\n"
     ]
    }
   ],
   "source": [
    "resultado(x)"
   ]
  },
  {
   "cell_type": "code",
   "execution_count": 28,
   "id": "6a686084-a3a9-4e12-83f6-d2593f126f3e",
   "metadata": {},
   "outputs": [],
   "source": [
    "# Variável global\n",
    "var_global = 10\n",
    "def multiplica (n1, n2):\n",
    "    var_global = n1 * n2\n",
    "    return var_global"
   ]
  },
  {
   "cell_type": "code",
   "execution_count": 29,
   "id": "cff1d199-7608-442d-abd6-1059faaece3f",
   "metadata": {},
   "outputs": [
    {
     "data": {
      "text/plain": [
       "15"
      ]
     },
     "execution_count": 29,
     "metadata": {},
     "output_type": "execute_result"
    }
   ],
   "source": [
    "multiplica(3,5)"
   ]
  },
  {
   "cell_type": "code",
   "execution_count": 30,
   "id": "cb115b4c-55e0-4037-a9a3-503da79c5652",
   "metadata": {},
   "outputs": [
    {
     "data": {
      "text/plain": [
       "10"
      ]
     },
     "execution_count": 30,
     "metadata": {},
     "output_type": "execute_result"
    }
   ],
   "source": [
    "var_global"
   ]
  },
  {
   "cell_type": "code",
   "execution_count": 31,
   "id": "55d7ba5e-0aae-41c6-a9c5-b199cb3edf57",
   "metadata": {},
   "outputs": [],
   "source": [
    "# Variável local\n",
    "var_global = 10\n",
    "def divide(n1, n2):\n",
    "    var_local = n1/n2\n",
    "    return var_local"
   ]
  },
  {
   "cell_type": "code",
   "execution_count": 32,
   "id": "4d835918-e39f-4e4a-b227-9dd7de050f45",
   "metadata": {},
   "outputs": [
    {
     "data": {
      "text/plain": [
       "34.0"
      ]
     },
     "execution_count": 32,
     "metadata": {},
     "output_type": "execute_result"
    }
   ],
   "source": [
    "divide(102, 3)"
   ]
  },
  {
   "cell_type": "code",
   "execution_count": null,
   "id": "d54839af-44ef-4ff8-b50a-0eeee0c9ec63",
   "metadata": {},
   "outputs": [],
   "source": []
  }
 ],
 "metadata": {
  "kernelspec": {
   "display_name": "Python 3 (ipykernel)",
   "language": "python",
   "name": "python3"
  },
  "language_info": {
   "codemirror_mode": {
    "name": "ipython",
    "version": 3
   },
   "file_extension": ".py",
   "mimetype": "text/x-python",
   "name": "python",
   "nbconvert_exporter": "python",
   "pygments_lexer": "ipython3",
   "version": "3.13.2"
  }
 },
 "nbformat": 4,
 "nbformat_minor": 5
}
