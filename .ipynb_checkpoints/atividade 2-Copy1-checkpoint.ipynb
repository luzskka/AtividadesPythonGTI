{
 "cells": [
  {
   "cell_type": "code",
   "execution_count": 19,
   "id": "408163fc-aef6-40a2-af61-1c12e36e654e",
   "metadata": {},
   "outputs": [
    {
     "name": "stdout",
     "output_type": "stream",
     "text": [
      "Conjunto de números naturais: {0, 1, 2, 3, 4, 5}\n",
      "Conjunto de números inteiros: {0, 1, 2, 3, -1, -3, -2}\n",
      "Conjunto de números racionais: {0.5, 1.75, -2.3}\n",
      "Conjunto de números reais: {2.718, 3.14, -1.414}\n"
     ]
    }
   ],
   "source": [
    "naturais = {0, 1, 2, 3, 4, 5}\n",
    "inteiros = {-3, -2, -1, 0, 1, 2, 3}\n",
    "racionais = {0.5, -2.3, 1.75}\n",
    "reais = {3.14, -1.414, 2.718}\n",
    "print(\"Conjunto de números naturais:\", naturais)\n",
    "print(\"Conjunto de números inteiros:\", inteiros)\n",
    "print(\"Conjunto de números racionais:\", racionais)\n",
    "print(\"Conjunto de números reais:\", reais)"
   ]
  },
  {
   "cell_type": "code",
   "execution_count": 23,
   "id": "903e8093-a4de-4298-9ca8-8d21b68b098a",
   "metadata": {},
   "outputs": [
    {
     "name": "stdout",
     "output_type": "stream",
     "text": [
      "União: {1, 2, 3, 4, 5, 6, 7}\n",
      "Interseção: {3, 4, 5}\n",
      "Diferenca A - B: {1, 2}\n"
     ]
    }
   ],
   "source": [
    "print(\"União:\", A | B) # A U B\n",
    "print(\"Interseção:\", A & B) # A n B\n",
    "print (\"Diferenca A - B:\", A - B) # Elementos em A, mas não em B"
   ]
  },
  {
   "cell_type": "code",
   "execution_count": 24,
   "id": "9aa2f1b8-43ac-4f46-95a5-7d47d72aa4d5",
   "metadata": {},
   "outputs": [
    {
     "name": "stdout",
     "output_type": "stream",
     "text": [
      "Conjunto atualizado: {1, 3, 4, 5, 6, 7, 8, 9}\n",
      "Tamanho do conjunto: 8\n"
     ]
    }
   ],
   "source": [
    "numeros = {1, 2, 3, 4, 5}\n",
    "numeros.add(6) # Adiciona um elemento \n",
    "numeros.remove(2) # Remove um elemento existente \n",
    "numeros.update([7, 8, 9]) # Adiciona múltiplos elementos \n",
    "print(\"Conjunto atualizado:\", numeros)\n",
    "print(\"Tamanho do conjunto:\", len (numeros))"
   ]
  },
  {
   "cell_type": "code",
   "execution_count": 31,
   "id": "9ad729fa-90d3-4828-ab93-0332ccceb4eb",
   "metadata": {},
   "outputs": [
    {
     "name": "stdout",
     "output_type": "stream",
     "text": [
      "Idades únicas e válidas: {35, 5, 40, 18, 22, 25, 28, 29, 30}\n",
      "Idade mínima: 5\n",
      "Idade máxima: 40\n",
      "Média de idade: 25.78\n"
     ]
    }
   ],
   "source": [
    "idades = [25, 30, 22, 22, 28, 35, 40, 30, 5, 120, 25, 18, 29]\n",
    "# Remover valores inválidos (idades negativas ou irreais)\n",
    "idades_validas = {i for i in idades if 0 <= i <= 100}\n",
    "# Estatísticas básicas \n",
    "idade_min = min(idades_validas) \n",
    "idade_max = max(idades_validas) \n",
    "media_idades = sum(idades_validas) / len(idades_validas)\n",
    "print(\"Idades únicas e válidas:\", idades_validas) \n",
    "print(\"Idade mínima:\", idade_min) \n",
    "print(\"Idade máxima:\", idade_max) \n",
    "print(\"Média de idade:\", round (media_idades, 2))"
   ]
  },
  {
   "cell_type": "code",
   "execution_count": null,
   "id": "eec5701d-1264-44fa-82d5-6260f5993d6f",
   "metadata": {},
   "outputs": [],
   "source": []
  }
 ],
 "metadata": {
  "kernelspec": {
   "display_name": "Python 3 (ipykernel)",
   "language": "python",
   "name": "python3"
  },
  "language_info": {
   "codemirror_mode": {
    "name": "ipython",
    "version": 3
   },
   "file_extension": ".py",
   "mimetype": "text/x-python",
   "name": "python",
   "nbconvert_exporter": "python",
   "pygments_lexer": "ipython3",
   "version": "3.13.2"
  }
 },
 "nbformat": 4,
 "nbformat_minor": 5
}
