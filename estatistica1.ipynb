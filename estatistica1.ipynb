{
 "cells": [
  {
   "cell_type": "code",
   "execution_count": null,
   "id": "5ed75d8b",
   "metadata": {},
   "outputs": [],
   "source": [
    "valores = [2, 4, 6, 3, 2, 1, 4, 3, 5, 2, 1,\n",
    "1, 4, 0, 2, 2, 5, 2, 2, 1]\n",
    "\n",
    "\n"
   ]
  },
  {
   "cell_type": "code",
   "execution_count": 10,
   "id": "1edeb48f",
   "metadata": {},
   "outputs": [
    {
     "data": {
      "text/plain": [
       "20"
      ]
     },
     "execution_count": 10,
     "metadata": {},
     "output_type": "execute_result"
    }
   ],
   "source": [
    "qtde = len(valores)\n",
    "qtde"
   ]
  },
  {
   "cell_type": "code",
   "execution_count": 13,
   "id": "eb0ea682",
   "metadata": {},
   "outputs": [],
   "source": [
    "import statistics as st     \n",
    "\n"
   ]
  },
  {
   "cell_type": "code",
   "execution_count": null,
   "id": "d78d0832",
   "metadata": {},
   "outputs": [
    {
     "data": {
      "text/plain": [
       "[0, 1, 1, 1, 1, 2, 2, 2, 2, 2, 2, 2, 3, 3, 4, 4, 4, 5, 5, 6]"
      ]
     },
     "execution_count": 3,
     "metadata": {},
     "output_type": "execute_result"
    }
   ],
   "source": [
    "valores.sort()\n",
    "valores\n"
   ]
  },
  {
   "cell_type": "code",
   "execution_count": 11,
   "id": "a9510ca4",
   "metadata": {},
   "outputs": [
    {
     "data": {
      "text/plain": [
       "2.6"
      ]
     },
     "execution_count": 11,
     "metadata": {},
     "output_type": "execute_result"
    }
   ],
   "source": [
    "media = sum(valores)/qtde\n",
    "media \n"
   ]
  },
  {
   "cell_type": "code",
   "execution_count": 18,
   "id": "429714d1",
   "metadata": {},
   "outputs": [
    {
     "data": {
      "text/plain": [
       "22.0"
      ]
     },
     "execution_count": 18,
     "metadata": {},
     "output_type": "execute_result"
    }
   ],
   "source": [
    "idades = [19, 20, 27, 27, 17]\n",
    "media_idades = sum(idades) / len(idades)\n",
    "media_idades"
   ]
  },
  {
   "cell_type": "code",
   "execution_count": 16,
   "id": "0dbbc6f0",
   "metadata": {},
   "outputs": [
    {
     "data": {
      "text/plain": [
       "2.6"
      ]
     },
     "execution_count": 16,
     "metadata": {},
     "output_type": "execute_result"
    }
   ],
   "source": [
    "media_valores = st.mean(valores)\n",
    "media_valores\n"
   ]
  },
  {
   "cell_type": "code",
   "execution_count": 19,
   "id": "02a0ab24",
   "metadata": {},
   "outputs": [
    {
     "name": "stdout",
     "output_type": "stream",
     "text": [
      "22\n"
     ]
    }
   ],
   "source": [
    "mean_idade = st.mean(idades)\n",
    "print(mean_idade)\n"
   ]
  },
  {
   "cell_type": "code",
   "execution_count": 25,
   "id": "512557e6",
   "metadata": {},
   "outputs": [
    {
     "name": "stdout",
     "output_type": "stream",
     "text": [
      "32.5\n"
     ]
    }
   ],
   "source": [
    "idades.append(43)\n",
    "mean_idades = st.mean(idades)\n",
    "print(mean_idades)\n"
   ]
  },
  {
   "cell_type": "code",
   "execution_count": 26,
   "id": "f0eb1dfb",
   "metadata": {},
   "outputs": [
    {
     "name": "stdout",
     "output_type": "stream",
     "text": [
      "2\n"
     ]
    }
   ],
   "source": [
    "moda_valores = st.mode(valores)\n",
    "print(moda_valores)"
   ]
  },
  {
   "cell_type": "code",
   "execution_count": 28,
   "id": "c66e46a9",
   "metadata": {},
   "outputs": [
    {
     "data": {
      "text/plain": [
       "2.0"
      ]
     },
     "execution_count": 28,
     "metadata": {},
     "output_type": "execute_result"
    }
   ],
   "source": [
    "mediana_valores = st.median(valores)\n",
    "mediana_valores"
   ]
  },
  {
   "cell_type": "code",
   "execution_count": 30,
   "id": "90ff7565",
   "metadata": {},
   "outputs": [
    {
     "name": "stdout",
     "output_type": "stream",
     "text": [
      "A média das notas é: 7, a mediana é: 7, a moda é: 6\n"
     ]
    }
   ],
   "source": [
    "# média das notas dos alunos, slide 56\n",
    "notas = [9, 9, 8, 8, 4, 4, 6, 6, 6, 7, 10]\n",
    "media_notas = st.mean(notas)\n",
    "mediana_notas = st.median(notas)\n",
    "moda_notas = st.mode(notas)\n",
    "print(f\"A média das notas é: {media_notas}, a mediana é: {mediana_notas}, a moda é: {moda_notas}\"   \n",
    ")"
   ]
  },
  {
   "cell_type": "code",
   "execution_count": null,
   "id": "70acb3c8",
   "metadata": {},
   "outputs": [],
   "source": []
  }
 ],
 "metadata": {
  "kernelspec": {
   "display_name": "Python 3",
   "language": "python",
   "name": "python3"
  },
  "language_info": {
   "codemirror_mode": {
    "name": "ipython",
    "version": 3
   },
   "file_extension": ".py",
   "mimetype": "text/x-python",
   "name": "python",
   "nbconvert_exporter": "python",
   "pygments_lexer": "ipython3",
   "version": "3.13.2"
  }
 },
 "nbformat": 4,
 "nbformat_minor": 5
}
